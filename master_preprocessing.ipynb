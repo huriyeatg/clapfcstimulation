{
 "cells": [
  {
   "cell_type": "code",
   "execution_count": 1,
   "id": "0e4f3108",
   "metadata": {},
   "outputs": [],
   "source": [
    "# makes all experimental recording ready for analysis\n",
    "import pandas as pd\n",
    "import main_functions as mfun\n",
    "import imagingplus as ip\n",
    "import pathlib\n"
   ]
  },
  {
   "cell_type": "code",
   "execution_count": 51,
   "id": "19c6773c",
   "metadata": {},
   "outputs": [
    {
     "name": "stdout",
     "output_type": "stream",
     "text": [
      "Computer: Huriye MAC\n"
     ]
    }
   ],
   "source": [
    "# Get the list of recordings\n",
    "info = mfun.analysis()"
   ]
  },
  {
   "cell_type": "code",
   "execution_count": 3,
   "id": "a6ff5b49",
   "metadata": {},
   "outputs": [
    {
     "name": "stdout",
     "output_type": "stream",
     "text": [
      "{'dataPath': 'Z:\\\\Data\\\\2022-04-07', 'saveDir': '/Users/Huriye/Documents/Code/clapfcstimulation/analysis', 'animalID': '2022-04-07', 'comment': 'date: 2020-12-19'}\n"
     ]
    }
   ],
   "source": [
    "# Check suite2p extraction\n",
    "for ind, recordingDate in enumerate(info.recordingList.recordingDate):\n",
    "    #check if exist\n",
    "    format(info.recordingList.recordingID[ind], '03d')\n",
    "    filepathname = (info.rawPath + info.recordingList.recordingDate[ind] +\n",
    "                '\\\\'+ info.recordingList.recordingDate[ind]+ '_'+\n",
    "                str(info.recordingList.animalID[ind]) +'_t-'+format(info.recordingList.recordingID[ind], '03d')+\n",
    "               '\\\\suite2p\\\\plane0')\n",
    "    filepath = pathlib(filepathname)\n",
    "    if filepath.is_file():\n",
    "        info.recordingList.suite2pextraction[ind]=1\n",
    "    else:\n",
    "        try:\n",
    "            print(filepathname +\": Running suite2p\")\n",
    "            mfun.run_suite2p()\n",
    "            info.recordingList.suite2pextraction[ind]=1\n",
    "        except:\n",
    "            print(filepathname)\n",
    "            print(\"Problem with suite2p extraction\")\n",
    "             info.recordingList.suite2pextraction[ind]=0\n",
    "\n",
    "print(\"Suite2P Extraction Completed: \" +\n",
    "    info.recordingList.suite2pextraction.sum() +\"/\" info.recordingList.calciumImaging.sum())"
   ]
  },
  {
   "cell_type": "code",
   "execution_count": 52,
   "id": "10853305",
   "metadata": {},
   "outputs": [
    {
     "data": {
      "text/plain": [
       "3092942"
      ]
     },
     "execution_count": 52,
     "metadata": {},
     "output_type": "execute_result"
    }
   ],
   "source": [
    "# Check pupil extraction\n",
    "for ind, recordingDate in enumerate(info.recordingList.recordingDate):\n",
    "    #check if exist\n",
    "    format(info.recordingList.recordingID[ind], '03d')\n",
    "    filepathname = (info.rawPath + info.recordingList.recordingDate[ind] +\n",
    "                    '\\\\'+ info.recordingList.recordingDate[ind]+ '_'+\n",
    "                    str(info.recordingList.animalID[ind]) +'_t-'+format(info.recordingList.recordingID[ind], '03d')+\n",
    "                    '\\\\suite2p\\\\plane0')\n",
    "    filepath = pathlib(filepathname)\n",
    "    if filepath.is_file() & info.recordingList.pupilImaging==1\n",
    "        info.recordingList.pupilextraction[ind]=1\n",
    "    elif info.recordingList.pupilImaging==1:\n",
    "        try:\n",
    "            print(filepathname +\": Running pupil extraction\")\n",
    "            mfun.run_DLCpupil()\n",
    "            info.recordingList.pupilextraction[ind]=1\n",
    "        except:\n",
    "            print(filepathname)\n",
    "            print(\"Problem with pupil extraction\")\n",
    "            info.recordingList.pupilextraction[ind]=0\n",
    "    else:\n",
    "        info.recordingList.pupilextraction[ind]=0\n",
    "\n",
    "print(\"Pupil Extraction Completed: \" +\n",
    "    info.recordingList.pupilextraction.sum() +\"/\" info.recordingList.pupilImaging.sum())"
   ]
  },
  {
   "cell_type": "code",
   "execution_count": null,
   "id": "d276c572",
   "metadata": {},
   "outputs": [],
   "source": [
    "# Extract time stamps - PAQ files"
   ]
  },
  {
   "cell_type": "code",
   "execution_count": null,
   "id": "5de5b292",
   "metadata": {},
   "outputs": [],
   "source": [
    "ops = {\n",
    "        # main settings\n",
    "        'nplanes' : 1, # each tiff has these many planes in sequence\n",
    "        'nchannels' : 1, # each tiff has these many channels per plane\n",
    "        'functional_chan' : 1, # this channel is used to extract functional ROIs (1-based)\n",
    "        'diameter': 12, # this is the main parameter for cell detection, 2-dimensional if Y and X are different (e.g. [6 12])\n",
    "        'tau':  1.26, # this is the main parameter for deconvolution (1.25-1.5 for gcamp6s)\n",
    "        'fs': 30.,  # sampling rate (total across planes)\n",
    "        # output settings\n",
    "        'delete_bin': False, # whether to delete binary file after processing\n",
    "        'save_mat': True, # whether to save output as matlab files\n",
    "        'combined': True, # combine multiple planes into a single result /single canvas for GUI\n",
    "        # parallel settings\n",
    "        'num_workers': 0, # 0 to select num_cores, -1 to disable parallelism, N to enforce value\n",
    "        'num_workers_roi': 0, # 0 to select number of planes, -1 to disable parallelism, N to enforce value\n",
    "        # registration settings\n",
    "        'batch_size': 500, # reduce if running out of RAM\n",
    "        'do_registration': True, # whether to register data\n",
    "        'nimg_init': 300, # subsampled frames for finding reference image\n",
    "        'maxregshift': 0.1, # max allowed registration shift, as a fraction of frame max(width and height)\n",
    "        'align_by_chan' : 1, # when multi-channel, you can align by non-functional channel (1-based)\n",
    "        'reg_tif': False, # whether to save registered tiffs\n",
    "        'subpixel' : 10, # precision of subpixel registration (1/subpixel steps)\n",
    "        # cell detection settings\n",
    "        'connected': True, # whether or not to keep ROIs fully connected (set to 0 for dendrites)\n",
    "        'navg_frames_svd': 5000, # max number of binned frames for the SVD\n",
    "        'nsvd_for_roi': 1000, # max number of SVD components to keep for ROI detection\n",
    "        'max_iterations': 20, # maximum number of iterations to do cell detection\n",
    "        'ratio_neuropil': 6., # ratio between neuropil basis size and cell radius\n",
    "        'ratio_neuropil_to_cell': 3, # minimum ratio between neuropil radius and cell radius\n",
    "        'tile_factor': 1., # use finer (>1) or coarser (<1) tiles for neuropil estimation during cell detection\n",
    "        'threshold_scaling': 1., # adjust the automatically determined threshold by this scalar multiplier\n",
    "        'max_overlap': 0.75, # cells with more overlap than this get removed during triage, before refinement\n",
    "        'inner_neuropil_radius': 2, # number of pixels to keep between ROI and neuropil donut\n",
    "        'outer_neuropil_radius': np.inf, # maximum neuropil radius\n",
    "        'min_neuropil_pixels': 350, # minimum number of pixels in the neuropil\n",
    "        # deconvolution settings\n",
    "        'baseline': 'maximin', # baselining mode\n",
    "        'win_baseline': 60., # window for maximin\n",
    "        'sig_baseline': 10., # smoothing constant for gaussian filter\n",
    "        'prctile_baseline': 8.,# optional (whether to use a percentile baseline)\n",
    "        'neucoeff': .7,  # neuropil coefficient\n",
    "      }\n"
   ]
  }
 ],
 "metadata": {
  "kernelspec": {
   "display_name": "Python 3 (ipykernel)",
   "language": "python",
   "name": "python3"
  },
  "language_info": {
   "codemirror_mode": {
    "name": "ipython",
    "version": 3
   },
   "file_extension": ".py",
   "mimetype": "text/x-python",
   "name": "python",
   "nbconvert_exporter": "python",
   "pygments_lexer": "ipython3",
   "version": "3.9.12"
  }
 },
 "nbformat": 4,
 "nbformat_minor": 5
}
