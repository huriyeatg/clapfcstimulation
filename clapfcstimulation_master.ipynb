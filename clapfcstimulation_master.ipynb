{
 "cells": [
  {
   "cell_type": "code",
   "execution_count": null,
   "metadata": {},
   "outputs": [],
   "source": [
    "# How do the CLA axons silencing affect the PFC neural activity? \n",
    "# This code analyses the 2photon + pupil data with widefield stimulation\n",
    "# enviroment : clapfcstimulation (includes imagingplus), suite2p, DEEPLABCUT\n",
    "# Created: HA 05 March 2022"
   ]
  },
  {
   "cell_type": "code",
   "execution_count": null,
   "metadata": {},
   "outputs": [],
   "source": [
    "# Preprocessing\n",
    "# Suite2p files were created in GUI in Suite2p env.\n",
    "# DLC files were created run_DLCforPupil.py in DEEPLABCUT env.\n",
    "\n",
    "# to check if all files created correctly\n",
    "clapfcstimulation_preprocessing.ipynb # save info for all details & extracted values \n",
    "# for calcium trace, PAQ files & pupil extraction\n",
    "\n",
    "main_funcs.py # for globally used files\n",
    "utils_funcs.py # from Vape, for extraction etc.\n",
    "paq2py.py # for PAQ extraction\n",
    "run_DLCforPupil.py # for getting csv file from videos\n"
   ]
  },
  {
   "cell_type": "code",
   "execution_count": null,
   "metadata": {},
   "outputs": [],
   "source": [
    "# Analysis\n",
    "clapfcstimulation_analysis.ipynb"
   ]
  }
 ],
 "metadata": {
  "kernelspec": {
   "display_name": "clapfcstimulation",
   "language": "python",
   "name": "python3"
  },
  "language_info": {
   "name": "python",
   "version": "3.9.16"
  },
  "orig_nbformat": 4
 },
 "nbformat": 4,
 "nbformat_minor": 2
}
