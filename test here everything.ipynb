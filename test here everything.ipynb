{
 "cells": [
  {
   "cell_type": "code",
   "execution_count": null,
   "id": "81029177",
   "metadata": {},
   "outputs": [],
   "source": [
    "# Pupil preprocessing - DLC extraction\n",
    "\n",
    "import deeplabcut\n",
    "import glob\n",
    "# import numpy as np\n",
    "# import pims\n",
    "# import cv2\n",
    "# import math\n",
    "# import os"
   ]
  },
  {
   "cell_type": "code",
   "execution_count": null,
   "id": "8b137690",
   "metadata": {},
   "outputs": [],
   "source": [
    "import main_functions as mfun\n",
    "path = 'Z:\\Data\\\\2022-05-09\\\\2022-05-09_22107_p-001\\\\'\n",
    "filename = path + 'test.tif'\n",
    "outputsavename = 'Z:\\\\Data\\\\2022-05-09\\\\2022-05-09_22107_p-001\\\\output.avi'\n",
    "\n",
    "mfun.convert_tiff2avi (filename,outputsavename)"
   ]
  },
  {
   "cell_type": "code",
   "execution_count": null,
   "id": "9f42f065",
   "metadata": {},
   "outputs": [],
   "source": [
    "import sys\n",
    "import numpy as np\n",
    "import tensorflow as tf\n",
    "from datetime import datetime\n",
    "\n",
    "\n",
    "device_name = sys.argv[1]\n",
    "print(sys.argv)\n",
    "shape = (int(sys.argv[2]), int(sys.argv[2]))\n",
    "if device_name == \"gpu\":\n",
    "    device_name = \"/gpu:0\"\n",
    "else:\n",
    "    device_name = \"/cpu:0\"\n",
    "\n",
    "with tf.device(device_name):\n",
    "    random_matrix = tf.random_uniform(shape=shape, minval=0, maxval=1)\n",
    "    dot_operation = tf.matmul(random_matrix, tf.transpose(random_matrix))\n",
    "    sum_operation = tf.reduce_sum(dot_operation)\n",
    "\n",
    "startTime = datetime.now()\n",
    "with tf.Session(config=tf.ConfigProto(log_device_placement=True)) as session:\n",
    "        result = session.run(sum_operation)\n",
    "        print(result)\n",
    "\n",
    "### Print the shape, device name and timing\n",
    "print(\"\\n\" * 3)\n",
    "print(\"Shape:\", shape, \"Device:\", device_name)\n",
    "print(\"Time taken:\", datetime.now() - startTime)\n",
    "print(\"\\n\" * 3)"
   ]
  },
  {
   "cell_type": "code",
   "execution_count": null,
   "id": "253bf5a6",
   "metadata": {},
   "outputs": [],
   "source": [
    "# # create the configpath\n",
    "# configPath = \"C:\\\\Users\\\\Huriye\\\\Documents\\\\code\\\\DeepLabCut-master\\\\pupilExtraction\\\\Updated 5 Dot Training Model-Eren CAN-2021-11-21\\\\\"\n",
    "# path_config_file = configPath + \"config.yaml\" # Enter the path of the config file that was just created from the above step (check the folder)\n",
    "# print(path_config_file)\n",
    "\n",
    "\n",
    "# # get the list of videos\n",
    "# for folder in fList:\n",
    "#     folderDateName = (folder[0:10])\n",
    "#    # print(folderDateName)\n",
    "#     fpath     = os.path.join(input_path,str(folderDateName))\n",
    "#     fpath     = fpath.replace(os.sep, '/')\n",
    "#     fpath     = Path(fpath)\n",
    "#    # print(fpath)\n",
    "#     save_path  = os.path.join(output_path,folder)\n",
    "#     save_path  = save_path.replace(os.sep, '/')\n",
    "#    # print(save_path)\n",
    "# videofile_path = ['D:\\DLC_output'] #Enter a folder OR a list of videos to analyze.\n",
    "# deeplabcut.analyze_videos(path_config_file,videofile_path, videotype='.avi',save_as_csv=True)"
   ]
  },
  {
   "cell_type": "code",
   "execution_count": null,
   "id": "8a057567",
   "metadata": {},
   "outputs": [],
   "source": [
    "# # Pupil preprocessing - uses Deep Lab Cut a custom model for pupil extraction\n",
    "\n",
    "# import deeplabcut\n",
    "# import glob\n",
    "\n",
    "# # create the configpath\n",
    "# configPath = \"C:\\\\Users\\\\Huriye\\\\Documents\\\\code\\\\DeepLabCut-master\\\\pupilExtraction\\\\Updated 5 Dot Training Model-Eren CAN-2021-11-21\\\\\"\n",
    "# path_config_file = configPath + \"config.yaml\" # Enter the path of the config file that was just created from the above step (check the folder)\n",
    "# print(path_config_file)\n",
    "\n",
    "\n",
    "# # get the list of videos\n",
    "# for folder in fList:\n",
    "#     folderDateName = (folder[0:10])\n",
    "#    # print(folderDateName)\n",
    "#     fpath     = os.path.join(input_path,str(folderDateName))\n",
    "#     fpath     = fpath.replace(os.sep, '/')\n",
    "#     fpath     = Path(fpath)\n",
    "#    # print(fpath)\n",
    "#     save_path  = os.path.join(output_path,folder)\n",
    "#     save_path  = save_path.replace(os.sep, '/')\n",
    "#    # print(save_path)\n",
    "# videofile_path = ['D:\\DLC_output'] #Enter a folder OR a list of videos to analyze.\n",
    "# deeplabcut.analyze_videos(path_config_file,videofile_path, videotype='.avi',save_as_csv=True)\n",
    "\n",
    "# # new way:\n",
    "# configfile, path_train_config = deeplabcut.create_pretrained_project(\n",
    "#     Task,\n",
    "#     YourName,\n",
    "#     video,\n",
    "#     model=MODEL_NAME,\n",
    "#     videotype=\"avi\",\n",
    "#     analyzevideo=True,\n",
    "#     createlabeledvideo=True,\n",
    "#     copy_videos=False,\n"
   ]
  },
  {
   "cell_type": "code",
   "execution_count": null,
   "id": "cc4fa0aa",
   "metadata": {},
   "outputs": [],
   "source": []
  }
 ],
 "metadata": {
  "kernelspec": {
   "display_name": "Python 3 (ipykernel)",
   "language": "python",
   "name": "python3"
  },
  "language_info": {
   "codemirror_mode": {
    "name": "ipython",
    "version": 3
   },
   "file_extension": ".py",
   "mimetype": "text/x-python",
   "name": "python",
   "nbconvert_exporter": "python",
   "pygments_lexer": "ipython3",
   "version": "3.8.16"
  }
 },
 "nbformat": 4,
 "nbformat_minor": 5
}
