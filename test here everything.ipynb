{
 "cells": [
  {
   "cell_type": "code",
   "execution_count": null,
   "id": "81029177",
   "metadata": {},
   "outputs": [],
   "source": [
    "# Pupil preprocessing - DLC extraction\n",
    "\n",
    "import deeplabcut\n",
    "import glob\n",
    "\n",
    "# create the configpath\n",
    "configPath = \"C:\\\\Users\\\\Huriye\\\\Documents\\\\code\\\\DeepLabCut-master\\\\pupilExtraction\\\\Updated 5 Dot Training Model-Eren CAN-2021-11-21\\\\\"\n",
    "path_config_file = configPath + \"config.yaml\" # Enter the path of the config file that was just created from the above step (check the folder)\n",
    "print(path_config_file)\n",
    "\n",
    "\n",
    "# get the list of videos\n",
    "for folder in fList:\n",
    "    folderDateName = (folder[0:10])\n",
    "   # print(folderDateName)\n",
    "    fpath     = os.path.join(input_path,str(folderDateName))\n",
    "    fpath     = fpath.replace(os.sep, '/')\n",
    "    fpath     = Path(fpath)\n",
    "   # print(fpath)\n",
    "    save_path  = os.path.join(output_path,folder)\n",
    "    save_path  = save_path.replace(os.sep, '/')\n",
    "   # print(save_path)\n",
    "videofile_path = ['D:\\DLC_output'] #Enter a folder OR a list of videos to analyze.\n",
    "deeplabcut.analyze_videos(path_config_file,videofile_path, videotype='.avi',save_as_csv=True)"
   ]
  }
 ],
 "metadata": {
  "kernelspec": {
   "display_name": "Python 3 (ipykernel)",
   "language": "python",
   "name": "python3"
  },
  "language_info": {
   "codemirror_mode": {
    "name": "ipython",
    "version": 3
   },
   "file_extension": ".py",
   "mimetype": "text/x-python",
   "name": "python",
   "nbconvert_exporter": "python",
   "pygments_lexer": "ipython3",
   "version": "3.10.6"
  }
 },
 "nbformat": 4,
 "nbformat_minor": 5
}
