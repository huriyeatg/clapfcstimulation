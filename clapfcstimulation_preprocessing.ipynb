{
 "cells": [
  {
   "cell_type": "code",
   "execution_count": 1,
   "id": "0e4f3108",
   "metadata": {},
   "outputs": [
    {
     "name": "stdout",
     "output_type": "stream",
     "text": [
      "Env: clapfcstimulation\n",
      "Computer: Huriye Windows\n"
     ]
    }
   ],
   "source": [
    "%reload_ext autoreload\n",
    "%autoreload 2\n",
    "\n",
    "# makes all experimental recording ready for analysis\n",
    "import pandas as pd\n",
    "import numpy as np\n",
    "import main_funcs as mfun\n",
    "from pathlib import Path\n",
    "import os\n",
    "import glob\n",
    "import paq2py as paq_reader\n",
    "import pickle\n",
    "import utils_funcs as utils\n",
    "\n",
    "\n",
    "# Get the list of recordings\n",
    "info = mfun.analysis()\n",
    "#info.recordingList.head()"
   ]
  },
  {
   "cell_type": "code",
   "execution_count": 2,
   "id": "a6ff5b49",
   "metadata": {},
   "outputs": [
    {
     "name": "stdout",
     "output_type": "stream",
     "text": [
      "Imaging Data Exist: 280/519\n",
      "Suite2P Extraction Completed: 280.0/280\n"
     ]
    }
   ],
   "source": [
    "# Check suite2p extraction\n",
    "# run run_suite2p.ipynb in suite2p environment \n",
    "# Extraction has already done with another code in suite2p environment. \n",
    "for ind, recordingDate in enumerate(info.recordingList.recordingDate):\n",
    "    if info.recordingList.calciumImaging[ind] ==1: # if imaging recording is done\n",
    "        #check if exist\n",
    "        filepathname = (info.recordingList.filepathname[ind] +'_t-' + \n",
    "                        format(int(info.recordingList.recordingID[ind]), '03d') +\n",
    "                        '\\\\suite2p\\\\')\n",
    "        #update table accordingly\n",
    "        try:\n",
    "            if os.path.isdir(filepathname):\n",
    "                filepath = Path(filepathname,'plane0','F.npy')\n",
    "                if filepath.is_file(): info.recordingList.loc[ind,'suite2pextraction']=1\n",
    "            else:\n",
    "                info.recordingList.loc[ind,'suite2pextraction']=0\n",
    "        except:\n",
    "            print('Suite2p folder is created without imaging trace:', + ind)\n",
    "            info.recordingList.loc[ind,'suite2pextraction']=0\n",
    "\n",
    "# display the output\n",
    "print( \"Imaging Data Exist: \" + \n",
    "      str(info.recordingList.calciumImaging.sum()) +\"/\" + str(info.recordingList.shape[0]))\n",
    "print( \"Suite2P Extraction Completed: \" + \n",
    "      str(info.recordingList.suite2pextraction.sum()) +\"/\" + str(info.recordingList.calciumImaging.sum()))\n",
    "notExtractedFiles = info.recordingList[info.recordingList['suite2pextraction'] != 1]\n",
    "if notExtractedFiles.shape[0]!=0: notExtractedFiles.head()"
   ]
  },
  {
   "cell_type": "code",
   "execution_count": 3,
   "id": "10853305",
   "metadata": {},
   "outputs": [
    {
     "name": "stdout",
     "output_type": "stream",
     "text": [
      "Stack to video conversion Completed: 322.0/322\n"
     ]
    }
   ],
   "source": [
    "# Check pupil extraction - STEP 1: Stack to video conversion\n",
    "# enviroment: DEEPLABCUT (specific requirements in pupil extraction. Hence specific env was used.)\n",
    "# Pupil data saved as stacktiffs - convert them to avi for DeepLabCut Analysis\n",
    "#import main_functions as mfun\n",
    "#import glob\n",
    "#info = mfun.analysis()\n",
    "\n",
    "for ind, recordingDate in enumerate(info.recordingList.recordingDate):\n",
    "    if info.recordingList.pupilImaging[ind] ==1: # if pupil recording is done\n",
    "        #check if exist\n",
    "        filepathname = (info.recordingList.filepathname[ind] +'_p-' + \n",
    "                        format(int(info.recordingList.recordingID[ind]), '03d') )\n",
    "        filenameAVI  = [f for f in glob.glob(filepathname + \"\\\\*.avi\")]\n",
    "        filenameTIF  = [f for f in glob.glob(filepathname + \"\\\\*.tif\")]\n",
    "        # convert files if not converted already\n",
    "        if len(filenameAVI)==1:\n",
    "            info.recordingList.loc[ind,'tiffconverted']=1\n",
    "        elif len(filenameAVI)!=1 & len(filenameTIF)==1:\n",
    "            info.recordingList.loc[ind,'tiffconverted']=0\n",
    "            filename = filenameTIF[0]\n",
    "            print('Coverting:' + filename)\n",
    "            outputsavename =  filenameTIF[0][:-4] + '.avi' #'D:\\\\pupil' + filenameTIF[0][41:-4] +'.avi' #\n",
    "            print(outputsavename)\n",
    "            mfun.convert_tiff2avi (filename,outputsavename)\n",
    "        else:\n",
    "            info.recordingList.loc[ind,'tiffconverted']=0\n",
    "            print('No pupil data found :', filepathname)\n",
    "\n",
    "# display the output\n",
    "print( \"Stack to video conversion Completed: \" + \n",
    "      str(info.recordingList.tiffconverted.sum()) +\"/\" + str(info.recordingList.pupilImaging.sum()))\n",
    "notExtractedFiles = info.recordingList[info.recordingList['tiffconverted'] != 1]\n",
    "if notExtractedFiles.shape[0]!=0: notExtractedFiles.head()"
   ]
  },
  {
   "cell_type": "code",
   "execution_count": 4,
   "id": "8c049d4c",
   "metadata": {},
   "outputs": [
    {
     "name": "stdout",
     "output_type": "stream",
     "text": [
      "Pupil size extraction Completed: 322.0/322\n"
     ]
    }
   ],
   "source": [
    "# Check pupil extraction - STEP 2: Video to CSV file conversion\n",
    "# 'run_DLCforpupil.py' needs to be run in a different enviroment: DEEPLABCUT (specific requirements in pupil extraction. Hence specific env was used.)\n",
    "#### this function save extracted values from avi videos to csv\n",
    "# Here, we only look for output csv files if created.\n",
    "\n",
    "for ind, recordingDate in enumerate(info.recordingList.recordingDate):\n",
    "    if info.recordingList.tiffconverted[ind] ==1: # if pupil recording is done & converted to .avi file\n",
    "        #check if exist\n",
    "        filepathname = (info.recordingList.filepathname[ind] +'_p-' + \n",
    "                        format(int(info.recordingList.recordingID[ind]), '03d') )\n",
    "        filenameCSV  = [f for f in glob.glob(filepathname + \"\\\\*.csv\")]\n",
    "\n",
    "        # calculate pupil changes if not calculatated already\n",
    "        try:\n",
    "            if len(filenameCSV)==1:\n",
    "                info.recordingList.loc[ind,'pupilcsvcreated']=1\n",
    "            elif len(filenameAVI)!=1 & len(filenameCSV)==1:\n",
    "                info.recordingList.loc[ind,'pupilcsvcreated']=0\n",
    "                filename = filenameCSV[0]\n",
    "                print('Coverting:' + filename)\n",
    "                outputsavename = filenameCSV[0][:-4] + '.csv'\n",
    "                mfun.convert_tiff2avi (filename,outputsavename)\n",
    "        except:\n",
    "            print('Pupil size extraction problem :', + filepathname)\n",
    "\n",
    "# display the output\n",
    "print( \"Pupil size extraction Completed: \" + \n",
    "      str(info.recordingList.pupilcsvcreated.sum()) +\"/\" + str(info.recordingList.pupilImaging.sum()))\n",
    "notExtractedFiles = info.recordingList[info.recordingList['pupilcsvcreated'] != 1]\n",
    "if notExtractedFiles.shape[0]==0: print('All CSV files for pupil data are created')"
   ]
  },
  {
   "cell_type": "code",
   "execution_count": 5,
   "id": "92a34d3d",
   "metadata": {},
   "outputs": [
    {
     "name": "stdout",
     "output_type": "stream",
     "text": [
      "PAQ extraction Completed: 519.0/519\n",
      "All paq data are extracted\n"
     ]
    }
   ],
   "source": [
    "# Check if PAQ data is extracted\n",
    "for ind, recordingDate in enumerate(info.recordingList.recordingDate):\n",
    "    try:\n",
    "        #print(str(ind)+ ' Creating: ' + info.recordingList.analysispathname[ind])\n",
    "\n",
    "        filepathname = (info.recordingList.filepathname[ind] +'_t-' + \n",
    "                                    format(int(info.recordingList.recordingID[ind]), '03d') )\n",
    "        #filenameTIF  = [f for f in glob.glob(filepathname + \"\\\\*.tif\")] # datapath\n",
    "        filenamePAQ  = [f for f in glob.glob(info.recordingList.filepathname[ind]  + # paqs_loc\n",
    "                                            '*'+ format(int(info.recordingList.recordingID[ind]), '03d') + '.paq')]\n",
    "        \n",
    "        savepathname = info.recordingList.analysispathname[ind]\n",
    "        if not os.path.exists(savepathname): os.makedirs(savepathname)\n",
    "        filenamePAQ_analysis = [f for f in glob.glob(savepathname + 'paq-data.pkl')] # paq analysis file\n",
    "        filenamePAQ_analysis_training = [f for f in glob.glob(savepathname + 'training-paq-data.pkl')] # paq analysis file\n",
    "\n",
    "        if (len(filenamePAQ_analysis)==1) | (len(filenamePAQ_analysis_training)==1) :\n",
    "            info.recordingList.loc[ind,'paqExtraction'] = 1\n",
    "            \n",
    "        elif  (len(filenamePAQ_analysis)==0) :\n",
    "            print('Extracting PAQ data: ' + filenamePAQ[0])\n",
    "            paq_data = paq_reader.paq_read( file_path=filenamePAQ[0], plot=True, save_path=savepathname) # we need this below\n",
    "            #optoStimTimes = utils.stim_start_frame (paq=paq_data, stim_chan_name='optoLoopback')\n",
    "            #if (len(optoStimTimes)!=40) and (len(optoStimTimes)!=20): # Two different recording types\n",
    "            #    print('Opto stim times are not 40: ' +str(len(optoStimTimes)))\n",
    "            #    info.recordingList.loc[ind,'paqExtraction'] = 0\n",
    "            if filenamePAQ[0].find('trainingDay')<0:\n",
    "                filenamePAQ_analysis = savepathname + 'paq-data.pkl'\n",
    "            else:\n",
    "                filenamePAQ_analysis = savepathname + 'training-paq-data.pkl'\n",
    "            \n",
    "            with open(filenamePAQ_analysis, 'wb') as f:\n",
    "                pickle.dump(paq_data, f)\n",
    "            info.recordingList.loc[ind,'paqExtraction'] = 1\n",
    "        else:\n",
    "            print('Something weird about this recording: ' + savepathname)\n",
    "            info.recordingList.loc[ind,'paqExtraction'] = 0\n",
    "    except:\n",
    "        print('Failed to extract PAQ data: ' + str(ind))\n",
    "        info.recordingList.loc[ind,'paqExtraction'] = 0\n",
    "\n",
    "# display the output\n",
    "print( \"PAQ extraction Completed: \" + \n",
    "      str(info.recordingList.paqExtraction.sum()) +\"/\" + str(info.recordingList.shape[0]))\n",
    "notExtractedFiles = info.recordingList[info.recordingList['paqExtraction'] != 1]\n",
    "if notExtractedFiles.shape[0]==0: print('All paq data are extracted')"
   ]
  },
  {
   "cell_type": "code",
   "execution_count": null,
   "id": "8d46c7a3",
   "metadata": {},
   "outputs": [],
   "source": [
    "  ###  TO PLOT each behaviour sessions  \n",
    "import matplotlib.pyplot as plt\n",
    "import plot_funcs as pfun\n",
    "\n",
    "fRate = 20000\n",
    "for ind, recordingDate in enumerate(info.recordingList.recordingDate):\n",
    "    savepathname = info.recordingList.analysispathname[ind]\n",
    "    pathname = [f for f in glob.glob(savepathname + 'training-paq-data.pkl')]\n",
    "   # try:\n",
    "    if  4>3:\n",
    "        if (len(pathname)==1)& (ind>419):\n",
    "            paqData = pd.read_pickle (pathname[0])\n",
    "            # Get the stim start times \n",
    "            trialStartTimes = utils.paq_data (paqData, 'maskerLED', 1, threshold_ttl=True)\n",
    "\n",
    "            trialStartTimes = trialStartTimes - (2*fRate)\n",
    "            \n",
    "            licks, trial_licks = utils.lick_binner(savepathname, trialStartTimes,'lickDetection', stimulation = False)\n",
    "            waterPoints, trial_water = utils.lick_binner(savepathname,trialStartTimes, 'waterDelivery', stimulation = False)\n",
    "\n",
    "            if len(trial_water)<500:\n",
    "                fig = plt.figure(str(ind))\n",
    "                for i, array in enumerate(trial_licks):\n",
    "                    plt.plot(array, np.ones_like(array)+i, 'bo',markersize = 1)\n",
    "                    plt.plot(trial_water[i], np.ones_like(trial_water[i])+i, 'rx',markersize = 2)\n",
    "                \n",
    "                plt.xlim(0, 8*fRate)\n",
    "                plt.xticks (range(0,(8*fRate)+1,fRate), range(-2,7,1))\n",
    "                plt.ylabel('Trials')\n",
    "                plt.xlabel('Time (sec)')\n",
    "                if ind>331:\n",
    "                    fname = savepathname[-20:-1]\n",
    "                else:\n",
    "                    fname = savepathname[-21:-1]\n",
    "                plt.title(fname +' '  + str(len(trialStartTimes)))\n",
    "                pfun.save_figure( 'Behaviour_session',savepathname)\n",
    "                savepathname = 'C:\\\\Users\\\\Huriye\\Documents\\\\code\\\\clapfcstimulation\\\\figs\\\\beh_session\\\\'\n",
    "                pfun.save_figure( fname,savepathname)\n",
    "                plt.close(fig)\n",
    "            else: \n",
    "                print(str(ind) +'Problem: '+ str(len(trial_water))+' Path:' + pathname[0] )\n",
    "    #except:\n",
    "      #  print('Failed to plot: ' + str(ind))\n",
    "        \n",
    "    "
   ]
  },
  {
   "cell_type": "code",
   "execution_count": 6,
   "id": "c421c69e",
   "metadata": {},
   "outputs": [
    {
     "name": "stdout",
     "output_type": "stream",
     "text": [
      "DFF extraction Completed: 280.0/280\n"
     ]
    }
   ],
   "source": [
    "# Check if calcium imaging data is extracted from suite 2p file\n",
    "for ind, recordingDate in enumerate(info.recordingList.recordingDate):  \n",
    "    #try:\n",
    "        # define paths to retrieve data from disc\n",
    "        filepathname = (info.recordingList.filepathname[ind] +'_t-' + \n",
    "                                format(int(info.recordingList.recordingID[ind]), '03d') )\n",
    "        filenameTIF  = [f for f in glob.glob(filepathname + \"\\\\*.tif\")] # datapath\n",
    "        savepathname = info.recordingList.analysispathname[ind]\n",
    "        filenameTIF_analysis = [f for f in glob.glob(savepathname + 'imaging-data.pkl')]\n",
    "        if (info.recordingList.calciumImaging[ind] == 1) and (len(filenameTIF_analysis)==1):\n",
    "            info.recordingList.loc[ind,'dffExtraction'] = 1\n",
    "        elif (info.recordingList.calciumImaging[ind] == 1) and (len(filenameTIF_analysis)<1):# calculate dff if not calculated already\n",
    "            # get PAQ data first\n",
    "            print(str(ind)+ ' Creating: ' + info.recordingList.analysispathname[ind])\n",
    "            filenamePAQ  = [f for f in glob.glob(info.recordingList.filepathname[ind]  + # paqs_loc\n",
    "                                                '*'+ format(int(info.recordingList.recordingID[ind]), '03d') + '.paq')]\n",
    "            filenamePAQ_analysis = [f for f in glob.glob(savepathname + 'paq-data.pkl')]\n",
    "            paq_data = paq_reader.paq_read( file_path=filenamePAQ[0], plot=True, save_path=savepathname) # we need this below\n",
    "            frame_clockPAQ  = utils.paq_data(paq_data, 'prairieFrame', threshold_ttl=True, plot=False)\n",
    "            imaging_data = mfun.calculateDFF (filepathname, frame_clockPAQ)\n",
    "            filenameTIF_analysis = savepathname + 'imaging-data.pkl'\n",
    "            if imaging_data['imagingDataQuality']==True:\n",
    "                with open(filenameTIF_analysis, 'wb') as f:\n",
    "                    pickle.dump(imaging_data, f)\n",
    "                    info.recordingList.loc[ind,'dffExtraction'] = 1\n",
    "            else:\n",
    "                print('Imaging data quality is NOT good: ' + filenameTIF[0])\n",
    "            info.recordingList.loc[ind,'dffExtraction'] = 0\n",
    "        elif (info.recordingList.calciumImaging[ind]) == 0 : # No imaging data recorded\n",
    "            info.recordingList.loc[ind,'dffExtraction'] = 0\n",
    "    #except:\n",
    "        #print('Calcium imaging data is crashed - most likely two channel: ' + filepathname)\n",
    "        #info.recordingList.loc[ind,'dffExtraction'] = 0\n",
    "# display the output\n",
    "print( \"DFF extraction Completed: \" + \n",
    "      str(info.recordingList.dffExtraction.sum()) +\"/\" + str(info.recordingList.calciumImaging.sum()))\n",
    "notExtractedFiles = info.recordingList[info.recordingList['dffExtraction'] != 1]\n",
    "if notExtractedFiles.shape[0]==0: print('All imaging data are extracted')"
   ]
  },
  {
   "cell_type": "code",
   "execution_count": 7,
   "id": "0e75f87d",
   "metadata": {},
   "outputs": [
    {
     "name": "stdout",
     "output_type": "stream",
     "text": [
      "Pupil size calculation Completed: 322.0/322\n"
     ]
    }
   ],
   "source": [
    "#Check if pupil data is calculated & extracted\n",
    "\n",
    "for ind, recordingDate in enumerate(info.recordingList.recordingDate):\n",
    "        # Get the imaging data if imaging file is ready (suite2p output is ready)\n",
    "        filepathname = (info.recordingList.filepathname[ind] +'_p-' + \n",
    "                    format(int(info.recordingList.recordingID[ind]), '03d') )\n",
    "        filenamePUPIL  = [f for f in glob.glob(filepathname + \"\\\\*.csv\")] # datapath\n",
    "        savepathname = info.recordingList.analysispathname[ind]\n",
    "        filenamePUPIL_analysis = [f for f in glob.glob(savepathname + 'pupil-data.pkl')]\n",
    "        if (info.recordingList.pupilcsvcreated[ind] == 1) and (len(filenamePUPIL_analysis)==1):\n",
    "            info.recordingList.loc[ind,'pupilExtraction'] = 1\n",
    "        elif (info.recordingList.pupilcsvcreated[ind] == 1) and len(filenamePUPIL_analysis)<1: # calculate dff if not calculated already\n",
    "            # get PAQ data first\n",
    "            print(str(ind)+ ' Creating: ' + info.recordingList.analysispathname[ind])\n",
    "            filenamePAQ  = [f for f in glob.glob(info.recordingList.filepathname[ind]  + # paqs_loc\n",
    "                                                '*'+ format(int(info.recordingList.recordingID[ind]), '03d') + '.paq')]\n",
    "            filenamePAQ_analysis = [f for f in glob.glob(savepathname + 'paq-data.pkl')]\n",
    "            paq_data = paq_reader.paq_read( file_path=filenamePAQ[0], plot=True, save_path=savepathname) # we need this below\n",
    "            frame_clockPAQ  = utils.paq_data(paq_data, 'prairieFrame', threshold_ttl=True, plot=False)\n",
    "            pupil_data = mfun.calculatePupil (filenamePUPIL,frame_clockPAQ)\n",
    "            filenamePUPIL_analysis = savepathname + 'pupil-data.pkl'\n",
    "            \n",
    "            with open(filenamePUPIL_analysis, 'wb') as f:\n",
    "                pickle.dump(pupil_data, f)\n",
    "                info.recordingList.loc[ind,'pupilExtraction'] = 1\n",
    "        else:\n",
    "            info.recordingList.loc[ind,'pupilExtraction'] = 0\n",
    "    #except:\n",
    "     #   print('Crashed')\n",
    "     #   info.recordingList.loc[ind,'pupilExtraction'] = 0\n",
    "\n",
    "# display the output\n",
    "print( \"Pupil size calculation Completed: \" + \n",
    "      str(info.recordingList.pupilExtraction.sum()) +\"/\" + str(info.recordingList.pupilImaging.sum()))\n",
    "notExtractedFiles = info.recordingList[info.recordingList['pupilExtraction'] != 1]\n",
    "if notExtractedFiles.shape[0]==0: print('All pupil data are extracted')"
   ]
  },
  {
   "cell_type": "code",
   "execution_count": 9,
   "id": "d2040170",
   "metadata": {},
   "outputs": [
    {
     "name": "stdout",
     "output_type": "stream",
     "text": [
      "All should be done!!\n"
     ]
    }
   ],
   "source": [
    "# save info into the analysis folder\n",
    "filenameINFO = info.analysisPath + '\\\\infoForAnalysis.pkl'\n",
    "with open(filenameINFO, 'wb') as f:\n",
    "    pickle.dump(info, f)\n",
    "print('All should be done!!')"
   ]
  }
 ],
 "metadata": {
  "kernelspec": {
   "display_name": "Python 3 (ipykernel)",
   "language": "python",
   "name": "python3"
  },
  "language_info": {
   "codemirror_mode": {
    "name": "ipython",
    "version": 3
   },
   "file_extension": ".py",
   "mimetype": "text/x-python",
   "name": "python",
   "nbconvert_exporter": "python",
   "pygments_lexer": "ipython3",
   "version": "3.9.16"
  }
 },
 "nbformat": 4,
 "nbformat_minor": 5
}
