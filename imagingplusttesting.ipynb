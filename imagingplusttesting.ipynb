{
 "cells": [
  {
   "cell_type": "code",
   "execution_count": null,
   "id": "140d2908",
   "metadata": {},
   "outputs": [],
   "source": [
    "## Master file lets test here everything\n",
    "import os\n",
    "from IPython import display\n",
    "import imagingplus as ip\n",
    "from imagingplus.processing.paq import PaqData\n",
    "from imagingplus.processing.imagingMetadata import PrairieViewMetadata"
   ]
  },
  {
   "cell_type": "code",
   "execution_count": null,
   "id": "f47adcdb",
   "metadata": {},
   "outputs": [],
   "source": [
    "ExperimentMetainfo = {\n",
    "    'dataPath': '/home/pshah/mnt/qnap/Data/2020-12-19',  #: main dir where the imaging data is contained\n",
    "    'saveDir': '/mnt/qnap_share/Data/imagingplus-example/',  #: main dir where the experiment object and the trial objects will be saved to\n",
    "    \"exID\": 'RL109',  #: given identification name for experiment\n",
    "    'comment': 'date: 2020-12-19',  #: notes related to experiment\n",
    "}\n",
    "\n",
    "# create Experiment\n",
    "\n",
    "expobj = ip.Experiment(**ExperimentMetainfo)\n",
    "\n",
    "\n",
    "# saving the Experiment object can be done anytime to disk from `expobj.save()`:\n",
    "expobj.save()\n",
    "# to save the Experiment with a custom path, provide a custom .pkl path and use the .save_pkl() method:\n",
    "#expobj.save_pkl(pkl_path='/mnt/qnap_share/Data/imagingplus-example/RL109_duplicate_analysis.pkl')"
   ]
  },
  {
   "cell_type": "code",
   "execution_count": null,
   "id": "b2a57479",
   "metadata": {},
   "outputs": [],
   "source": [
    "# we can now load the new expobj from disk storage using pickle in ip.import_obj():\n",
    "expobj = ip.import_obj('/mnt/qnap_share/Data/imagingplus-example/RL109_analysis.pkl')\n",
    "\n",
    "# create trial obj for each trial of experiment\n",
    "\n",
    "trials_list_spont = ['t-005', 't-006']\n",
    "for idx, trial in enumerate(trials_list_spont):\n",
    "    date = '2020-12-19'\n",
    "    prep = expobj.expID\n",
    "\n",
    "    # define paths to retrieve data from disc\n",
    "    paqs_loc = f'/home/pshah/mnt/qnap/Data/2020-12-19/{date}_{prep}_{trial[-3:]}.paq'  # path to the .paq files for the selected trials\n",
    "    dataPath = f'/home/pshah/mnt/qnap/Data/2020-12-19/{date}_{trial}/{date}_{trial}_Cycle00001_Ch3.tif'\n",
    "\n",
    "\n",
    "    # initialize microscope meta-data for current imaging trial using pre-built module for Bruker-PrairieView xml parser\n",
    "    imparams = PrairieViewMetadata(pv_xml_dir=os.path.dirname(dataPath), microscope='Bruker 2pPlus')\n",
    "\n",
    "    # initialize temporal data using pre-built module for .paq parsing\n",
    "    tmdata = PaqData.paqProcessingTwoPhotonImaging(paq_path=paqs_loc, frame_channel='frame_clock', plot=False)\n",
    "\n",
    "    # feed in information into `TwoPhotonImaging` to create a TwoPhotonImaging object\n",
    "    trialobj = ip.TwoPhotonImaging(date=date, trialID= trial, expID= prep, imparams =  imparams, tmdata= tmdata,\n",
    "                                saveDir=f'/mnt/qnap_share/Data/imagingplus-example/imagingplus-test-analysis/',\n",
    "                                dataPath= dataPath, expGroup= \"awake spont. 2p imaging + LFP\")\n",
    "\n",
    "\n",
    "    # add each Trial to the overall Experiment using the trialobj\n",
    "    expobj.add_imaging_trial(trialID=trial, trialobj=trialobj)\n",
    "    \n",
    "# save the experiment object after adding new trials\n",
    "expobj.save()\n",
    "print(expobj)"
   ]
  },
  {
   "cell_type": "code",
   "execution_count": null,
   "id": "076ee05e",
   "metadata": {},
   "outputs": [],
   "source": [
    "# we can access each trial's information from within the `expobj`\n",
    "expobj.TrialsInformation\n",
    "# we can also load each trial directly from the experiment:\n",
    "trialobj = expobj.load_trial(trialID = 't-005')"
   ]
  }
 ],
 "metadata": {
  "kernelspec": {
   "display_name": "Python 3 (ipykernel)",
   "language": "python",
   "name": "python3"
  },
  "language_info": {
   "codemirror_mode": {
    "name": "ipython",
    "version": 3
   },
   "file_extension": ".py",
   "mimetype": "text/x-python",
   "name": "python",
   "nbconvert_exporter": "python",
   "pygments_lexer": "ipython3",
   "version": "3.10.6"
  }
 },
 "nbformat": 4,
 "nbformat_minor": 5
}
