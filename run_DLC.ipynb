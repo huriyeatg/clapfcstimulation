{
 "cells": [
  {
   "cell_type": "code",
   "execution_count": 1,
   "metadata": {},
   "outputs": [
    {
     "name": "stdout",
     "output_type": "stream",
     "text": [
      "Loading DLC 2.3.0...\n"
     ]
    }
   ],
   "source": [
    "import os\n",
    "import deeplabcut\n"
   ]
  },
  {
   "cell_type": "code",
   "execution_count": 2,
   "metadata": {},
   "outputs": [],
   "source": [
    "video_path = 'C:\\\\Users\\\\Huriye\\\\Documents\\\\code\\\\clapfcstimulation\\\\\\DeepLabCut\\\\data\\\\pupil_data\\\\2022-05-09_22107_p-001_2022-05-09-234619.avi'"
   ]
  },
  {
   "cell_type": "code",
   "execution_count": 3,
   "metadata": {},
   "outputs": [
    {
     "data": {
      "application/vnd.jupyter.widget-view+json": {
       "model_id": "fb777293408241d285cc5667971d4670",
       "version_major": 2,
       "version_minor": 0
      },
      "text/plain": [
       "Dropdown(description='Choose a DLC ModelZoo model!', options=('full_human', 'full_cat', 'primate_face', 'mouse…"
      ]
     },
     "metadata": {},
     "output_type": "display_data"
    }
   ],
   "source": [
    "import ipywidgets as widgets\n",
    "from IPython.display import display\n",
    "\n",
    "model_options = deeplabcut.create_project.modelzoo.Modeloptions\n",
    "model_selection = widgets.Dropdown(\n",
    "    options=model_options,\n",
    "    value=model_options[0],\n",
    "    description=\"Choose a DLC ModelZoo model!\",\n",
    "    disabled=False\n",
    ")\n",
    "display(model_selection)"
   ]
  },
  {
   "cell_type": "code",
   "execution_count": 4,
   "metadata": {},
   "outputs": [],
   "source": [
    "project_name = 'DLC_pupil'\n",
    "your_name = 'HA'\n",
    "model2use = model_selection.value\n",
    "videotype = os.path.splitext(video_path)[-1].lstrip('.') #or MOV, or avi, whatever you uploaded!"
   ]
  },
  {
   "cell_type": "code",
   "execution_count": 5,
   "metadata": {},
   "outputs": [
    {
     "name": "stdout",
     "output_type": "stream",
     "text": [
      "C:\\Users\\Huriye\\Documents\\code\\clapfcstimulation\\\\DeepLabCut\\data\\pupil_data\\2022-05-09_22107_p-001_2022-05-09-234619downsampled.avi\n"
     ]
    }
   ],
   "source": [
    "video_path = deeplabcut.DownSampleVideo(video_path, width=300)\n",
    "print(video_path)"
   ]
  },
  {
   "cell_type": "code",
   "execution_count": 6,
   "metadata": {},
   "outputs": [
    {
     "name": "stdout",
     "output_type": "stream",
     "text": [
      "Project \"C:\\Users\\Huriye\\Documents\\code\\clapfcstimulation\\DLC_pupil-HA-2023-03-05\" already exists!\n",
      "Downloading weights...\n",
      "Loading.... mouse_pupil_vclose\n"
     ]
    },
    {
     "data": {
      "application/vnd.jupyter.widget-view+json": {
       "model_id": "cf4975d08dde43a182bc6693a308e4e0",
       "version_major": 2,
       "version_minor": 0
      },
      "text/plain": [
       "Downloading (…)0_shuffle-1.tar.gz\";:   0%|          | 0.00/178M [00:00<?, ?B/s]"
      ]
     },
     "metadata": {},
     "output_type": "display_data"
    },
    {
     "ename": "ValueError",
     "evalue": "Paths don't have the same drive",
     "output_type": "error",
     "traceback": [
      "\u001b[1;31m---------------------------------------------------------------------------\u001b[0m",
      "\u001b[1;31mValueError\u001b[0m                                Traceback (most recent call last)",
      "Cell \u001b[1;32mIn[6], line 1\u001b[0m\n\u001b[1;32m----> 1\u001b[0m config_path, train_config_path \u001b[39m=\u001b[39m deeplabcut\u001b[39m.\u001b[39;49mcreate_pretrained_project(\n\u001b[0;32m      2\u001b[0m     project_name,\n\u001b[0;32m      3\u001b[0m     your_name,\n\u001b[0;32m      4\u001b[0m     [video_path],\n\u001b[0;32m      5\u001b[0m     videotype\u001b[39m=\u001b[39;49mvideotype,\n\u001b[0;32m      6\u001b[0m     model\u001b[39m=\u001b[39;49mmodel2use,\n\u001b[0;32m      7\u001b[0m     analyzevideo\u001b[39m=\u001b[39;49m\u001b[39mTrue\u001b[39;49;00m,\n\u001b[0;32m      8\u001b[0m     createlabeledvideo\u001b[39m=\u001b[39;49m\u001b[39mTrue\u001b[39;49;00m,\n\u001b[0;32m      9\u001b[0m     copy_videos\u001b[39m=\u001b[39;49m\u001b[39mTrue\u001b[39;49;00m, \u001b[39m#must leave copy_videos=True\u001b[39;49;00m\n\u001b[0;32m     10\u001b[0m )\n",
      "File \u001b[1;32mc:\\Users\\Huriye\\anaconda3\\envs\\DEEPLABCUT\\lib\\site-packages\\deeplabcut\\create_project\\modelzoo.py:261\u001b[0m, in \u001b[0;36mcreate_pretrained_project\u001b[1;34m(project, experimenter, videos, model, working_directory, copy_videos, videotype, analyzevideo, filtered, createlabeledvideo, trainFraction)\u001b[0m\n\u001b[0;32m    259\u001b[0m \u001b[39m# Download the weights and put then in appropriate directory\u001b[39;00m\n\u001b[0;32m    260\u001b[0m \u001b[39mprint\u001b[39m(\u001b[39m\"\u001b[39m\u001b[39mDownloading weights...\u001b[39m\u001b[39m\"\u001b[39m)\n\u001b[1;32m--> 261\u001b[0m download_huggingface_model(model, train_dir)\n\u001b[0;32m    263\u001b[0m pose_cfg \u001b[39m=\u001b[39m deeplabcut\u001b[39m.\u001b[39mauxiliaryfunctions\u001b[39m.\u001b[39mread_plainconfig(path_train_config)\n\u001b[0;32m    264\u001b[0m pose_cfg[\u001b[39m\"\u001b[39m\u001b[39mdataset_type\u001b[39m\u001b[39m\"\u001b[39m] \u001b[39m=\u001b[39m \u001b[39m\"\u001b[39m\u001b[39mimgaug\u001b[39m\u001b[39m\"\u001b[39m\n",
      "File \u001b[1;32mc:\\Users\\Huriye\\anaconda3\\envs\\DEEPLABCUT\\lib\\site-packages\\dlclibrary\\dlcmodelzoo\\modelzoo_download.py:67\u001b[0m, in \u001b[0;36mdownload_huggingface_model\u001b[1;34m(modelname, target_dir, remove_hf_folder)\u001b[0m\n\u001b[0;32m     64\u001b[0m url \u001b[39m=\u001b[39m neturls[modelname]\u001b[39m.\u001b[39msplit(\u001b[39m\"\u001b[39m\u001b[39m/\u001b[39m\u001b[39m\"\u001b[39m)\n\u001b[0;32m     65\u001b[0m repo_id, targzfn \u001b[39m=\u001b[39m url[\u001b[39m0\u001b[39m] \u001b[39m+\u001b[39m \u001b[39m\"\u001b[39m\u001b[39m/\u001b[39m\u001b[39m\"\u001b[39m \u001b[39m+\u001b[39m url[\u001b[39m1\u001b[39m], \u001b[39mstr\u001b[39m(url[\u001b[39m-\u001b[39m\u001b[39m1\u001b[39m])\n\u001b[1;32m---> 67\u001b[0m hf_hub_download(repo_id, targzfn, cache_dir\u001b[39m=\u001b[39;49m\u001b[39mstr\u001b[39;49m(target_dir))\n\u001b[0;32m     69\u001b[0m \u001b[39m# Create a new subfolder as indicated below, unzipping from there and deleting this folder\u001b[39;00m\n\u001b[0;32m     70\u001b[0m hf_folder \u001b[39m=\u001b[39m \u001b[39mf\u001b[39m\u001b[39m\"\u001b[39m\u001b[39mmodels--\u001b[39m\u001b[39m{\u001b[39;00murl[\u001b[39m0\u001b[39m]\u001b[39m}\u001b[39;00m\u001b[39m--\u001b[39m\u001b[39m{\u001b[39;00murl[\u001b[39m1\u001b[39m]\u001b[39m}\u001b[39;00m\u001b[39m\"\u001b[39m\n",
      "File \u001b[1;32mc:\\Users\\Huriye\\anaconda3\\envs\\DEEPLABCUT\\lib\\site-packages\\huggingface_hub\\utils\\_validators.py:124\u001b[0m, in \u001b[0;36mvalidate_hf_hub_args.<locals>._inner_fn\u001b[1;34m(*args, **kwargs)\u001b[0m\n\u001b[0;32m    119\u001b[0m \u001b[39mif\u001b[39;00m check_use_auth_token:\n\u001b[0;32m    120\u001b[0m     kwargs \u001b[39m=\u001b[39m smoothly_deprecate_use_auth_token(\n\u001b[0;32m    121\u001b[0m         fn_name\u001b[39m=\u001b[39mfn\u001b[39m.\u001b[39m\u001b[39m__name__\u001b[39m, has_token\u001b[39m=\u001b[39mhas_token, kwargs\u001b[39m=\u001b[39mkwargs\n\u001b[0;32m    122\u001b[0m     )\n\u001b[1;32m--> 124\u001b[0m \u001b[39mreturn\u001b[39;00m fn(\u001b[39m*\u001b[39;49margs, \u001b[39m*\u001b[39;49m\u001b[39m*\u001b[39;49mkwargs)\n",
      "File \u001b[1;32mc:\\Users\\Huriye\\anaconda3\\envs\\DEEPLABCUT\\lib\\site-packages\\huggingface_hub\\file_download.py:1295\u001b[0m, in \u001b[0;36mhf_hub_download\u001b[1;34m(repo_id, filename, subfolder, repo_type, revision, library_name, library_version, cache_dir, user_agent, force_download, force_filename, proxies, etag_timeout, resume_download, token, local_files_only, legacy_cache_layout)\u001b[0m\n\u001b[0;32m   1292\u001b[0m     _chmod_and_replace(temp_file\u001b[39m.\u001b[39mname, blob_path)\n\u001b[0;32m   1294\u001b[0m     logger\u001b[39m.\u001b[39minfo(\u001b[39m\"\u001b[39m\u001b[39mcreating pointer to \u001b[39m\u001b[39m%s\u001b[39;00m\u001b[39m from \u001b[39m\u001b[39m%s\u001b[39;00m\u001b[39m\"\u001b[39m, blob_path, pointer_path)\n\u001b[1;32m-> 1295\u001b[0m     _create_relative_symlink(blob_path, pointer_path, new_blob\u001b[39m=\u001b[39;49m\u001b[39mTrue\u001b[39;49;00m)\n\u001b[0;32m   1297\u001b[0m \u001b[39mtry\u001b[39;00m:\n\u001b[0;32m   1298\u001b[0m     os\u001b[39m.\u001b[39mremove(lock_path)\n",
      "File \u001b[1;32mc:\\Users\\Huriye\\anaconda3\\envs\\DEEPLABCUT\\lib\\site-packages\\huggingface_hub\\file_download.py:847\u001b[0m, in \u001b[0;36m_create_relative_symlink\u001b[1;34m(src, dst, new_blob)\u001b[0m\n\u001b[0;32m    844\u001b[0m \u001b[39mexcept\u001b[39;00m \u001b[39mOSError\u001b[39;00m:\n\u001b[0;32m    845\u001b[0m     \u001b[39mpass\u001b[39;00m\n\u001b[1;32m--> 847\u001b[0m cache_dir \u001b[39m=\u001b[39m os\u001b[39m.\u001b[39mpath\u001b[39m.\u001b[39mdirname(os\u001b[39m.\u001b[39;49mpath\u001b[39m.\u001b[39;49mcommonpath([src, dst]))\n\u001b[0;32m    848\u001b[0m \u001b[39mif\u001b[39;00m are_symlinks_supported(cache_dir\u001b[39m=\u001b[39mcache_dir):\n\u001b[0;32m    849\u001b[0m     relative_src \u001b[39m=\u001b[39m os\u001b[39m.\u001b[39mpath\u001b[39m.\u001b[39mrelpath(src, start\u001b[39m=\u001b[39mos\u001b[39m.\u001b[39mpath\u001b[39m.\u001b[39mdirname(dst))\n",
      "File \u001b[1;32mc:\\Users\\Huriye\\anaconda3\\envs\\DEEPLABCUT\\lib\\ntpath.py:763\u001b[0m, in \u001b[0;36mcommonpath\u001b[1;34m(paths)\u001b[0m\n\u001b[0;32m    759\u001b[0m \u001b[39m# Check that all drive letters or UNC paths match. The check is made only\u001b[39;00m\n\u001b[0;32m    760\u001b[0m \u001b[39m# now otherwise type errors for mixing strings and bytes would not be\u001b[39;00m\n\u001b[0;32m    761\u001b[0m \u001b[39m# caught.\u001b[39;00m\n\u001b[0;32m    762\u001b[0m \u001b[39mif\u001b[39;00m \u001b[39mlen\u001b[39m(\u001b[39mset\u001b[39m(d \u001b[39mfor\u001b[39;00m d, p \u001b[39min\u001b[39;00m drivesplits)) \u001b[39m!=\u001b[39m \u001b[39m1\u001b[39m:\n\u001b[1;32m--> 763\u001b[0m     \u001b[39mraise\u001b[39;00m \u001b[39mValueError\u001b[39;00m(\u001b[39m\"\u001b[39m\u001b[39mPaths don\u001b[39m\u001b[39m'\u001b[39m\u001b[39mt have the same drive\u001b[39m\u001b[39m\"\u001b[39m)\n\u001b[0;32m    765\u001b[0m drive, path \u001b[39m=\u001b[39m splitdrive(paths[\u001b[39m0\u001b[39m]\u001b[39m.\u001b[39mreplace(altsep, sep))\n\u001b[0;32m    766\u001b[0m common \u001b[39m=\u001b[39m path\u001b[39m.\u001b[39msplit(sep)\n",
      "\u001b[1;31mValueError\u001b[0m: Paths don't have the same drive"
     ]
    }
   ],
   "source": [
    "config_path, train_config_path = deeplabcut.create_pretrained_project(\n",
    "    project_name,\n",
    "    your_name,\n",
    "    [video_path],\n",
    "    videotype=videotype,\n",
    "    model=model2use,\n",
    "    analyzevideo=True,\n",
    "    createlabeledvideo=True,\n",
    "    copy_videos=True, #must leave copy_videos=True\n",
    ")"
   ]
  }
 ],
 "metadata": {
  "kernelspec": {
   "display_name": "DEEPLABCUT",
   "language": "python",
   "name": "python3"
  },
  "language_info": {
   "codemirror_mode": {
    "name": "ipython",
    "version": 3
   },
   "file_extension": ".py",
   "mimetype": "text/x-python",
   "name": "python",
   "nbconvert_exporter": "python",
   "pygments_lexer": "ipython3",
   "version": "3.8.16"
  },
  "orig_nbformat": 4
 },
 "nbformat": 4,
 "nbformat_minor": 2
}
